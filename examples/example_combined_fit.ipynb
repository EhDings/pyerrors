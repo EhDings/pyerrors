{
 "cells": [
  {
   "cell_type": "code",
   "execution_count": 1,
   "id": "ethical-frontier",
   "metadata": {},
   "outputs": [],
   "source": [
    "import pyerrors as pe\n",
    "import numpy as np\n",
    "import matplotlib.pyplot as plt"
   ]
  },
  {
   "cell_type": "code",
   "execution_count": 2,
   "id": "incredible-posting",
   "metadata": {},
   "outputs": [],
   "source": [
    "x_test = {'a':[0,1,2,3,4,5],'b':[0,1,2,3,4,5]}\n",
    "y_test = {'a':[pe.Obs([np.random.normal(i, i*1.5, 1000)],['ensemble1']) for i in range(1,7)],\n",
    "          'b':[pe.Obs([np.random.normal(val, val*1.5, 1000)],['ensemble1']) for val in [1.0,2.5,4.0,5.5,7.0,8.5]]}\n",
    "for key in y_test.keys():\n",
    "    [item.gamma_method() for item in y_test[key]]"
   ]
  },
  {
   "cell_type": "code",
   "execution_count": 3,
   "id": "subtle-malaysia",
   "metadata": {},
   "outputs": [],
   "source": [
    "def func_a(a, x):\n",
    "    return a[1] * x + a[0]\n",
    "\n",
    "def func_b(a, x):\n",
    "    return a[2] * x + a[0]\n",
    "\n",
    "funcs_test = {\"a\": func_a,\"b\": func_b}"
   ]
  },
  {
   "cell_type": "code",
   "execution_count": 4,
   "id": "modern-relay",
   "metadata": {},
   "outputs": [
    {
     "name": "stdout",
     "output_type": "stream",
     "text": [
      "Fit with 3 parameters\n",
      "Method: migrad\n",
      "Optimization terminated successfully.\n",
      "chisquare/d.o.f.: 0.3395164548834892\n",
      "fit parameters [0.98791658 1.00784727 1.56875359]\n",
      "chisquare/expected_chisquare: 0.339844373345418\n"
     ]
    }
   ],
   "source": [
    "output_test = pe.fits.least_squares(x_test,y_test,funcs_test,expected_chisquare=True)"
   ]
  },
  {
   "cell_type": "code",
   "execution_count": 5,
   "id": "technological-rolling",
   "metadata": {},
   "outputs": [],
   "source": [
    "output_test.gamma_method()"
   ]
  },
  {
   "cell_type": "code",
   "execution_count": 6,
   "id": "persistent-mathematics",
   "metadata": {},
   "outputs": [
    {
     "name": "stdout",
     "output_type": "stream",
     "text": [
      "Goodness of fit:\n",
      "χ²/d.o.f. = 0.339516\n",
      "χ²/χ²exp  = 0.339844\n",
      "p-value   = 0.9620\n",
      "Fit parameters:\n",
      "0\t 0.988(35)\n",
      "1\t 1.008(32)\n",
      "2\t 1.569(42)\n",
      "\n"
     ]
    }
   ],
   "source": [
    "print(output_test)"
   ]
  },
  {
   "cell_type": "code",
   "execution_count": 7,
   "id": "wooden-potential",
   "metadata": {},
   "outputs": [
    {
     "data": {
      "image/png": "[encoded data removed]",
      "text/plain": [
       "<Figure size 432x288 with 1 Axes>"
      ]
     },
     "metadata": {
      "needs_background": "light"
     },
     "output_type": "display_data"
    }
   ],
   "source": [
    "colour= {'a':'red','b':'black'}\n",
    "plt.figure()\n",
    "for key in funcs_test.keys():\n",
    "    plt.errorbar(x_test[key],[o.value for o in y_test[key]],ls='none',marker='*',color=colour[key],yerr=[o.dvalue for o in y_test[key]],capsize=3,label=key)\n",
    "    plt.plot([x_val for x_val in x_test[key]],[funcs_test[key](output_test.fit_parameters,x_val) for x_val in x_test[key]],color=colour[key],label='func_'+key)\n",
    "plt.legend()\n",
    "plt.show()"
   ]
  },
  {
   "cell_type": "code",
   "execution_count": 8,
   "id": "3b82d1c6",
   "metadata": {},
   "outputs": [],
   "source": [
    "x_const = {'c':[0,1,2,3,4,5,6,7,8,9],'d':list(np.arange(10,20))}\n",
    "y_const = {'c':[pe.Obs([np.random.normal(1, val, 1000)],['ensemble1']) \n",
    "               for val in [0.25,0.3,0.01,0.2,0.5,1.3,0.26,0.4,0.1,1.0]],\n",
    "          'd':[pe.Obs([np.random.normal(1, val, 1000)],['ensemble1'])\n",
    "               for val in [0.5,1.12,0.26,0.25,0.3,0.01,0.2,1.0,0.38,0.1]]}\n",
    "for key in y_const.keys():\n",
    "    [item.gamma_method() for item in y_const[key]]"
   ]
  },
  {
   "cell_type": "code",
   "execution_count": 9,
   "id": "7c1f7950",
   "metadata": {},
   "outputs": [],
   "source": [
    "#needs to be vectorized for expected chi2 to  work (jacobian matrix incorrect dim. otherwise)\n",
    "#@anp.vectorize\n",
    "def func_const(a,x):\n",
    "    return a[0]#*anp.ones(len(x))\n",
    "\n",
    "funcs_const = {\"c\": func_const,\"d\": func_const}"
   ]
  },
  {
   "cell_type": "code",
   "execution_count": 10,
   "id": "82e0cdb6",
   "metadata": {},
   "outputs": [
    {
     "name": "stdout",
     "output_type": "stream",
     "text": [
      "Fit with 1 parameter\n",
      "Method: migrad\n",
      "Optimization terminated successfully.\n",
      "chisquare/d.o.f.: 1.444161495357013\n",
      "fit parameters [0.9997047]\n"
     ]
    }
   ],
   "source": [
    "output_const = pe.fits.least_squares(x_const,y_const,funcs_const,method='migrad')"
   ]
  },
  {
   "cell_type": "code",
   "execution_count": 11,
   "id": "ab5c5bef",
   "metadata": {},
   "outputs": [],
   "source": [
    "output_const.gamma_method()"
   ]
  },
  {
   "cell_type": "code",
   "execution_count": 12,
   "id": "d6abfe4f",
   "metadata": {},
   "outputs": [
    {
     "data": {
      "text/plain": [
       "        chisquare: 27.439068411783246\n",
       " chisquare_by_dof: 1.444161495357013\n",
       "              dof: 19\n",
       "     fit_function: {'c': <function func_const at 0x7fd602cf69d8>, 'd': <function func_const at 0x7fd602cf69d8>}\n",
       "   fit_parameters: [Obs[0.99970(22)]]\n",
       "       iterations: 15\n",
       "          message: 'Optimization terminated successfully.'\n",
       "           method: 'migrad'\n",
       "          p_value: 0.09483431965197764"
      ]
     },
     "execution_count": 12,
     "metadata": {},
     "output_type": "execute_result"
    }
   ],
   "source": [
    "output_const"
   ]
  },
  {
   "cell_type": "code",
   "execution_count": 13,
   "id": "50e3de50",
   "metadata": {
    "scrolled": true
   },
   "outputs": [
    {
     "name": "stdout",
     "output_type": "stream",
     "text": [
      "Fit with 1 parameter\n",
      "Method: migrad\n",
      "Optimization terminated successfully.\n",
      "chisquare/d.o.f.: 1.444161495357013\n",
      "fit parameters [0.9997047]\n"
     ]
    }
   ],
   "source": [
    "output_const = pe.fits.least_squares(x_const,y_const,funcs_const,method='migrad')"
   ]
  },
  {
   "cell_type": "code",
   "execution_count": 14,
   "id": "efd3d4d0",
   "metadata": {},
   "outputs": [],
   "source": [
    "y_const_ls = []\n",
    "for key in y_const:\n",
    "    for item in y_const[key]:\n",
    "        y_const_ls.append(item)"
   ]
  },
  {
   "cell_type": "code",
   "execution_count": 15,
   "id": "57d65824",
   "metadata": {},
   "outputs": [
    {
     "name": "stdout",
     "output_type": "stream",
     "text": [
      "[Obs[1.0101(80)], Obs[0.9908(97)], Obs[0.99919(32)], Obs[0.9962(64)], Obs[0.965(17)], Obs[1.004(42)], Obs[1.0094(82)], Obs[1.004(13)], Obs[0.9974(31)], Obs[0.954(34)], Obs[1.004(16)], Obs[1.058(37)], Obs[0.9893(84)], Obs[0.9895(85)], Obs[0.9914(96)], Obs[1.00028(33)], Obs[1.0005(62)], Obs[0.957(32)], Obs[0.988(13)], Obs[1.0040(32)]]\n"
     ]
    }
   ],
   "source": [
    "print(y_const_ls)"
   ]
  },
  {
   "cell_type": "code",
   "execution_count": 16,
   "id": "731552bc",
   "metadata": {},
   "outputs": [
    {
     "name": "stdout",
     "output_type": "stream",
     "text": [
      "Fit with 1 parameter\n",
      "Method: Levenberg-Marquardt\n",
      "`ftol` termination condition is satisfied.\n",
      "chisquare/d.o.f.: 1.4441614953561615\n"
     ]
    }
   ],
   "source": [
    "output_const2 = pe.fits.least_squares(list(np.arange(0,20)),y_const_ls, func_const)"
   ]
  },
  {
   "cell_type": "code",
   "execution_count": 17,
   "id": "019583b5",
   "metadata": {},
   "outputs": [],
   "source": [
    "output_const2.gamma_method()"
   ]
  },
  {
   "cell_type": "code",
   "execution_count": 18,
   "id": "f28a3478",
   "metadata": {},
   "outputs": [
    {
     "data": {
      "text/plain": [
       "        chisquare: 27.439068411767067\n",
       " chisquare_by_dof: 1.4441614953561615\n",
       "              dof: 19\n",
       "     fit_function: <function func_const at 0x7fd602cf69d8>\n",
       "   fit_parameters: [Obs[0.99970(22)]]\n",
       "       iterations: 7\n",
       "          message: '`ftol` termination condition is satisfied.'\n",
       "           method: 'Levenberg-Marquardt'\n",
       "          p_value: 0.0948343196523247"
      ]
     },
     "execution_count": 18,
     "metadata": {},
     "output_type": "execute_result"
    }
   ],
   "source": [
    "output_const2"
   ]
  },
  {
   "cell_type": "code",
   "execution_count": 19,
   "id": "466cd303",
   "metadata": {},
   "outputs": [
    {
     "data": {
      "image/png": "[encoded data removed]",
      "text/plain": [
       "<Figure size 432x288 with 1 Axes>"
      ]
     },
     "metadata": {
      "needs_background": "light"
     },
     "output_type": "display_data"
    }
   ],
   "source": [
    "colour= {'c':'red','d':'black'}\n",
    "plt.figure()\n",
    "for key in funcs_const.keys():\n",
    "    plt.errorbar(x_const[key],[o.value for o in y_const[key]],ls='none',marker='*',\n",
    "                 color=colour[key],yerr=[o.dvalue for o in y_const[key]],capsize=3,label=key)\n",
    "plt.plot(np.arange(0,20),[func_const(output_const.fit_parameters,x_val) for x_val in list(np.arange(0,20))],\n",
    "         label='combined fit',color ='lightblue')\n",
    "plt.plot(np.arange(0,20),[func_const(output_const2.fit_parameters,x_val) for x_val in list(np.arange(0,20))],\n",
    "         label='one fit',color='black',ls='--')\n",
    "plt.legend()\n",
    "plt.show()"
   ]
  }
 ],
 "metadata": {
  "kernelspec": {
   "display_name": "Python 3 (ipykernel)",
   "language": "python",
   "name": "python3"
  },
  "language_info": {
   "codemirror_mode": {
    "name": "ipython",
    "version": 3
   },
   "file_extension": ".py",
   "mimetype": "text/x-python",
   "name": "python",
   "nbconvert_exporter": "python",
   "pygments_lexer": "ipython3",
   "version": "3.7.3"
  }
 },
 "nbformat": 4,
 "nbformat_minor": 5
}
