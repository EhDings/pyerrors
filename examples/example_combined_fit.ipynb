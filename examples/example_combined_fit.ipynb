{
 "cells": [
  {
   "cell_type": "code",
   "execution_count": 1,
   "id": "ethical-frontier",
   "metadata": {},
   "outputs": [],
   "source": [
    "import pyerrors as pe\n",
    "import numpy as np\n",
    "import matplotlib.pyplot as plt"
   ]
  },
  {
   "cell_type": "code",
   "execution_count": 2,
   "id": "incredible-posting",
   "metadata": {},
   "outputs": [],
   "source": [
    "x_test = {'a':[0,1,2,3,4,5],'b':[0,1,2,3,4,5]}\n",
    "y_test = {'a':[pe.Obs([np.random.normal(i, i*1.5, 1000)],['ensemble1']) for i in range(1,7)],\n",
    "          'b':[pe.Obs([np.random.normal(val, val*1.5, 1000)],['ensemble1']) for val in [1.0,2.5,4.0,5.5,7.0,8.5]]}\n",
    "for key in y_test.keys():\n",
    "    [item.gamma_method() for item in y_test[key]]"
   ]
  },
  {
   "cell_type": "code",
   "execution_count": 3,
   "id": "subtle-malaysia",
   "metadata": {},
   "outputs": [],
   "source": [
    "def func_a(a, x):\n",
    "    return a[1] * x + a[0]\n",
    "\n",
    "def func_b(a, x):\n",
    "    return a[2] * x + a[0]\n",
    "\n",
    "funcs_test = {\"a\": func_a,\"b\": func_b}"
   ]
  },
  {
   "cell_type": "code",
   "execution_count": 4,
   "id": "modern-relay",
   "metadata": {},
   "outputs": [
    {
     "name": "stdout",
     "output_type": "stream",
     "text": [
      "Fit with 3 parameters\n",
      "Method: migrad\n",
      "Optimization terminated successfully.\n",
      "chisquare/d.o.f.: 1.1407448193242595\n",
      "fit parameters [0.98418071 0.95797691 1.52431702]\n",
      "chisquare/expected_chisquare: 1.1485431097238927\n"
     ]
    }
   ],
   "source": [
    "output_test = pe.fits.least_squares(x_test,y_test,funcs_test,method='migrad',expected_chisquare=True)"
   ]
  },
  {
   "cell_type": "code",
   "execution_count": 6,
   "id": "technological-rolling",
   "metadata": {},
   "outputs": [],
   "source": [
    "output_test.gamma_method()"
   ]
  },
  {
   "cell_type": "code",
   "execution_count": 7,
   "id": "persistent-mathematics",
   "metadata": {},
   "outputs": [
    {
     "name": "stdout",
     "output_type": "stream",
     "text": [
      "Goodness of fit:\n",
      "χ²/d.o.f. = 1.140745\n",
      "χ²/χ²exp  = 1.148543\n",
      "p-value   = 0.3293\n",
      "Fit parameters:\n",
      "0\t 0.984(33)\n",
      "1\t 0.958(32)\n",
      "2\t 1.524(42)\n",
      "\n"
     ]
    }
   ],
   "source": [
    "print(output_test)"
   ]
  },
  {
   "cell_type": "code",
   "execution_count": 8,
   "id": "wooden-potential",
   "metadata": {},
   "outputs": [
    {
     "data": {
      "image/png": "[encoded data removed]",
      "text/plain": [
       "<Figure size 432x288 with 1 Axes>"
      ]
     },
     "metadata": {
      "needs_background": "light"
     },
     "output_type": "display_data"
    }
   ],
   "source": [
    "colour= {'a':'red','b':'black'}\n",
    "plt.figure()\n",
    "for key in funcs_test.keys():\n",
    "    plt.errorbar(x_test[key],[o.value for o in y_test[key]],ls='none',marker='*',color=colour[key],yerr=[o.dvalue for o in y_test[key]],capsize=3,label=key)\n",
    "    plt.plot([x_val for x_val in x_test[key]],[funcs_test[key](output_test.fit_parameters,x_val) for x_val in x_test[key]],color=colour[key],label='func_'+key)\n",
    "plt.legend()\n",
    "plt.show()"
   ]
  },
  {
   "cell_type": "code",
   "execution_count": 9,
   "id": "3b82d1c6",
   "metadata": {},
   "outputs": [],
   "source": [
    "x_const = {'c':list(np.arange(0,10)),'d':list(np.arange(10,20))}\n",
    "y_const = {'c':[pe.Obs([np.random.normal(1, val, 1000)],['ensemble1']) \n",
    "               for val in [0.25,0.3,0.01,0.2,0.5,1.3,0.26,0.4,0.1,1.0]],\n",
    "          'd':[pe.Obs([np.random.normal(1, val, 1000)],['ensemble1'])\n",
    "               for val in [0.5,1.12,0.26,0.25,0.3,0.01,0.2,1.0,0.38,0.1]]}\n",
    "for key in y_const.keys():\n",
    "    [item.gamma_method() for item in y_const[key]]"
   ]
  },
  {
   "cell_type": "code",
   "execution_count": 10,
   "id": "7c1f7950",
   "metadata": {},
   "outputs": [],
   "source": [
    "def func_const(a, x):\n",
    "    return a[0]\n",
    "\n",
    "funcs_const = {\"c\": func_const,\"d\": func_const}"
   ]
  },
  {
   "cell_type": "code",
   "execution_count": 11,
   "id": "82e0cdb6",
   "metadata": {},
   "outputs": [
    {
     "name": "stdout",
     "output_type": "stream",
     "text": [
      "Fit with 1 parameter\n",
      "Method: migrad\n",
      "Optimization terminated successfully.\n",
      "chisquare/d.o.f.: 0.7268201670950173\n",
      "fit parameters [0.99968989]\n"
     ]
    }
   ],
   "source": [
    "output_const = pe.combined_fits.combined_fit(x_const,y_const,funcs_const,method='migrad')"
   ]
  },
  {
   "cell_type": "code",
   "execution_count": 12,
   "id": "53021f73",
   "metadata": {},
   "outputs": [
    {
     "data": {
      "text/plain": [
       "13.80958317480533"
      ]
     },
     "execution_count": 12,
     "metadata": {},
     "output_type": "execute_result"
    }
   ],
   "source": [
    "output_const.chisquare"
   ]
  },
  {
   "cell_type": "code",
   "execution_count": 13,
   "id": "ab5c5bef",
   "metadata": {},
   "outputs": [],
   "source": [
    "output_const.gamma_method()"
   ]
  },
  {
   "cell_type": "code",
   "execution_count": 14,
   "id": "d6abfe4f",
   "metadata": {},
   "outputs": [
    {
     "data": {
      "text/plain": [
       "        chisquare: 13.80958317480533\n",
       " chisquare_by_dof: 0.7268201670950173\n",
       "              dof: 19\n",
       "     fit_function: {'c': <function func_const at 0x7f3742783378>, 'd': <function func_const at 0x7f3742783378>}\n",
       "   fit_parameters: [Obs[0.99969(22)]]\n",
       "       iterations: 15\n",
       "          message: 'Optimization terminated successfully.'\n",
       "           method: 'migrad'\n",
       "          p_value: 0.7946762502119166"
      ]
     },
     "execution_count": 14,
     "metadata": {},
     "output_type": "execute_result"
    }
   ],
   "source": [
    "output_const"
   ]
  },
  {
   "cell_type": "code",
   "execution_count": 15,
   "id": "efd3d4d0",
   "metadata": {},
   "outputs": [],
   "source": [
    "y_const_ls = []\n",
    "for key in y_const:\n",
    "    for item in y_const[key]:\n",
    "        y_const_ls.append(item)"
   ]
  },
  {
   "cell_type": "code",
   "execution_count": 16,
   "id": "57d65824",
   "metadata": {},
   "outputs": [
    {
     "name": "stdout",
     "output_type": "stream",
     "text": [
      "[Obs[0.9905(78)], Obs[1.0090(96)], Obs[0.99960(32)], Obs[1.0032(62)], Obs[1.018(18)], Obs[0.988(49)], Obs[1.0084(83)], Obs[1.000(13)], Obs[0.9960(32)], Obs[1.009(34)], Obs[0.990(16)], Obs[0.970(35)], Obs[0.9865(91)], Obs[0.9981(80)], Obs[1.0065(97)], Obs[0.99983(31)], Obs[0.9985(61)], Obs[1.040(32)], Obs[1.011(12)], Obs[0.9966(31)]]\n"
     ]
    }
   ],
   "source": [
    "print(y_const_ls)"
   ]
  },
  {
   "cell_type": "code",
   "execution_count": 17,
   "id": "731552bc",
   "metadata": {},
   "outputs": [
    {
     "name": "stdout",
     "output_type": "stream",
     "text": [
      "Fit with 1 parameter\n",
      "Method: Levenberg-Marquardt\n",
      "`ftol` termination condition is satisfied.\n",
      "chisquare/d.o.f.: 0.7268201670947627\n"
     ]
    }
   ],
   "source": [
    "output_const2 = pe.fits.least_squares(list(np.arange(0,20)),y_const_ls, func_const)"
   ]
  },
  {
   "cell_type": "code",
   "execution_count": 18,
   "id": "019583b5",
   "metadata": {},
   "outputs": [],
   "source": [
    "output_const2.gamma_method()"
   ]
  },
  {
   "cell_type": "code",
   "execution_count": 19,
   "id": "f28a3478",
   "metadata": {},
   "outputs": [
    {
     "data": {
      "text/plain": [
       "        chisquare: 13.809583174800492\n",
       " chisquare_by_dof: 0.7268201670947627\n",
       "              dof: 19\n",
       "     fit_function: <function func_const at 0x7f3742783378>\n",
       "   fit_parameters: [Obs[0.99969(22)]]\n",
       "       iterations: 7\n",
       "          message: '`ftol` termination condition is satisfied.'\n",
       "           method: 'Levenberg-Marquardt'\n",
       "          p_value: 0.7946762502121925"
      ]
     },
     "execution_count": 19,
     "metadata": {},
     "output_type": "execute_result"
    }
   ],
   "source": [
    "output_const2"
   ]
  },
  {
   "cell_type": "code",
   "execution_count": 20,
   "id": "466cd303",
   "metadata": {},
   "outputs": [
    {
     "data": {
      "image/png": "[encoded data removed]",
      "text/plain": [
       "<Figure size 432x288 with 1 Axes>"
      ]
     },
     "metadata": {
      "needs_background": "light"
     },
     "output_type": "display_data"
    }
   ],
   "source": [
    "colour= {'c':'red','d':'black'}\n",
    "plt.figure()\n",
    "for key in funcs_const.keys():\n",
    "    plt.errorbar(x_const[key],[o.value for o in y_const[key]],ls='none',marker='*',\n",
    "                 color=colour[key],yerr=[o.dvalue for o in y_const[key]],capsize=3,label=key)\n",
    "plt.plot(np.arange(0,20),[func_const(output_const.fit_parameters,x_val) for x_val in list(np.arange(0,20))],\n",
    "         label='combined fit',color ='lightblue')\n",
    "plt.plot(np.arange(0,20),[func_const(output_const2.fit_parameters,x_val) for x_val in list(np.arange(0,20))],\n",
    "         label='one fit',color='black',ls='--')\n",
    "plt.legend()\n",
    "plt.show()"
   ]
  },
  {
   "cell_type": "code",
   "execution_count": 21,
   "id": "dd14c5dc",
   "metadata": {},
   "outputs": [],
   "source": [
    "def func_const_wrong():\n",
    "    a=x"
   ]
  },
  {
   "cell_type": "code",
   "execution_count": 22,
   "id": "d4e8adbc",
   "metadata": {},
   "outputs": [],
   "source": [
    "funcs_const_wrong = {\"c\": 4,\"d\": func_const_wrong}"
   ]
  },
  {
   "cell_type": "code",
   "execution_count": 23,
   "id": "27f8d77c",
   "metadata": {},
   "outputs": [
    {
     "ename": "TypeError",
     "evalue": "func (key=c) is not a function.",
     "output_type": "error",
     "traceback": [
      "\u001b[0;31m---------------------------------------------------------------------------\u001b[0m",
      "\u001b[0;31mTypeError\u001b[0m                                 Traceback (most recent call last)",
      "\u001b[0;32m/tmp/ipykernel_55611/20019894.py\u001b[0m in \u001b[0;36m<module>\u001b[0;34m\u001b[0m\n\u001b[0;32m----> 1\u001b[0;31m \u001b[0moutput_const2_wrong\u001b[0m \u001b[0;34m=\u001b[0m \u001b[0mpe\u001b[0m\u001b[0;34m.\u001b[0m\u001b[0mcombined_fits\u001b[0m\u001b[0;34m.\u001b[0m\u001b[0mcombined_fit\u001b[0m\u001b[0;34m(\u001b[0m\u001b[0mx_const\u001b[0m\u001b[0;34m,\u001b[0m\u001b[0my_const\u001b[0m\u001b[0;34m,\u001b[0m\u001b[0mfuncs_const_wrong\u001b[0m\u001b[0;34m,\u001b[0m\u001b[0mmethod\u001b[0m\u001b[0;34m=\u001b[0m\u001b[0;34m'migrad'\u001b[0m\u001b[0;34m)\u001b[0m\u001b[0;34m\u001b[0m\u001b[0;34m\u001b[0m\u001b[0m\n\u001b[0m",
      "\u001b[0;32m~/phd/develop_pyerrors/piapyerrors/pyerrors/combined_fits.py\u001b[0m in \u001b[0;36mcombined_fit\u001b[0;34m(x, y, funcs, silent, **kwargs)\u001b[0m\n\u001b[1;32m     71\u001b[0m     \u001b[0;32mfor\u001b[0m \u001b[0mkey\u001b[0m \u001b[0;32min\u001b[0m \u001b[0mfuncs\u001b[0m\u001b[0;34m.\u001b[0m\u001b[0mkeys\u001b[0m\u001b[0;34m(\u001b[0m\u001b[0;34m)\u001b[0m\u001b[0;34m:\u001b[0m\u001b[0;34m\u001b[0m\u001b[0;34m\u001b[0m\u001b[0m\n\u001b[1;32m     72\u001b[0m         \u001b[0;32mif\u001b[0m \u001b[0;32mnot\u001b[0m \u001b[0mcallable\u001b[0m\u001b[0;34m(\u001b[0m\u001b[0mfuncs\u001b[0m\u001b[0;34m[\u001b[0m\u001b[0mkey\u001b[0m\u001b[0;34m]\u001b[0m\u001b[0;34m)\u001b[0m\u001b[0;34m:\u001b[0m\u001b[0;34m\u001b[0m\u001b[0;34m\u001b[0m\u001b[0m\n\u001b[0;32m---> 73\u001b[0;31m             \u001b[0;32mraise\u001b[0m \u001b[0mTypeError\u001b[0m\u001b[0;34m(\u001b[0m\u001b[0;34m'func (key='\u001b[0m\u001b[0;34m+\u001b[0m \u001b[0mkey\u001b[0m \u001b[0;34m+\u001b[0m \u001b[0;34m') is not a function.'\u001b[0m\u001b[0;34m)\u001b[0m\u001b[0;34m\u001b[0m\u001b[0;34m\u001b[0m\u001b[0m\n\u001b[0m\u001b[1;32m     74\u001b[0m         \u001b[0;32mif\u001b[0m \u001b[0mlen\u001b[0m\u001b[0;34m(\u001b[0m\u001b[0mx\u001b[0m\u001b[0;34m[\u001b[0m\u001b[0mkey\u001b[0m\u001b[0;34m]\u001b[0m\u001b[0;34m)\u001b[0m \u001b[0;34m!=\u001b[0m \u001b[0mlen\u001b[0m\u001b[0;34m(\u001b[0m\u001b[0my\u001b[0m\u001b[0;34m[\u001b[0m\u001b[0mkey\u001b[0m\u001b[0;34m]\u001b[0m\u001b[0;34m)\u001b[0m\u001b[0;34m:\u001b[0m\u001b[0;34m\u001b[0m\u001b[0;34m\u001b[0m\u001b[0m\n\u001b[1;32m     75\u001b[0m             \u001b[0;32mraise\u001b[0m \u001b[0mException\u001b[0m\u001b[0;34m(\u001b[0m\u001b[0;34m'x and y input (key='\u001b[0m\u001b[0;34m+\u001b[0m \u001b[0mkey\u001b[0m \u001b[0;34m+\u001b[0m \u001b[0;34m') do not have the same length'\u001b[0m\u001b[0;34m)\u001b[0m\u001b[0;34m\u001b[0m\u001b[0;34m\u001b[0m\u001b[0m\n",
      "\u001b[0;31mTypeError\u001b[0m: func (key=c) is not a function."
     ]
    }
   ],
   "source": [
    "output_const2_wrong = pe.combined_fits.combined_fit(x_const,y_const,funcs_const_wrong,method='migrad')"
   ]
  },
  {
   "cell_type": "code",
   "execution_count": 24,
   "id": "e7110837",
   "metadata": {},
   "outputs": [],
   "source": [
    "x_const_wrong = {'c':list(np.arange(0,11)),'d':list(np.arange(10,20))}"
   ]
  },
  {
   "cell_type": "code",
   "execution_count": 25,
   "id": "2dae0db9",
   "metadata": {},
   "outputs": [
    {
     "ename": "Exception",
     "evalue": "x and y input (key=c) do not have the same length",
     "output_type": "error",
     "traceback": [
      "\u001b[0;31m---------------------------------------------------------------------------\u001b[0m",
      "\u001b[0;31mException\u001b[0m                                 Traceback (most recent call last)",
      "\u001b[0;32m/tmp/ipykernel_55611/2795677260.py\u001b[0m in \u001b[0;36m<module>\u001b[0;34m\u001b[0m\n\u001b[0;32m----> 1\u001b[0;31m \u001b[0mpe\u001b[0m\u001b[0;34m.\u001b[0m\u001b[0mcombined_fits\u001b[0m\u001b[0;34m.\u001b[0m\u001b[0mcombined_fit\u001b[0m\u001b[0;34m(\u001b[0m\u001b[0mx_const_wrong\u001b[0m\u001b[0;34m,\u001b[0m\u001b[0my_const\u001b[0m\u001b[0;34m,\u001b[0m\u001b[0mfuncs_const\u001b[0m\u001b[0;34m,\u001b[0m\u001b[0mmethod\u001b[0m\u001b[0;34m=\u001b[0m\u001b[0;34m'migrad'\u001b[0m\u001b[0;34m)\u001b[0m\u001b[0;34m\u001b[0m\u001b[0;34m\u001b[0m\u001b[0m\n\u001b[0m",
      "\u001b[0;32m~/phd/develop_pyerrors/piapyerrors/pyerrors/combined_fits.py\u001b[0m in \u001b[0;36mcombined_fit\u001b[0;34m(x, y, funcs, silent, **kwargs)\u001b[0m\n\u001b[1;32m     73\u001b[0m             \u001b[0;32mraise\u001b[0m \u001b[0mTypeError\u001b[0m\u001b[0;34m(\u001b[0m\u001b[0;34m'func (key='\u001b[0m\u001b[0;34m+\u001b[0m \u001b[0mkey\u001b[0m \u001b[0;34m+\u001b[0m \u001b[0;34m') is not a function.'\u001b[0m\u001b[0;34m)\u001b[0m\u001b[0;34m\u001b[0m\u001b[0;34m\u001b[0m\u001b[0m\n\u001b[1;32m     74\u001b[0m         \u001b[0;32mif\u001b[0m \u001b[0mlen\u001b[0m\u001b[0;34m(\u001b[0m\u001b[0mx\u001b[0m\u001b[0;34m[\u001b[0m\u001b[0mkey\u001b[0m\u001b[0;34m]\u001b[0m\u001b[0;34m)\u001b[0m \u001b[0;34m!=\u001b[0m \u001b[0mlen\u001b[0m\u001b[0;34m(\u001b[0m\u001b[0my\u001b[0m\u001b[0;34m[\u001b[0m\u001b[0mkey\u001b[0m\u001b[0;34m]\u001b[0m\u001b[0;34m)\u001b[0m\u001b[0;34m:\u001b[0m\u001b[0;34m\u001b[0m\u001b[0;34m\u001b[0m\u001b[0m\n\u001b[0;32m---> 75\u001b[0;31m             \u001b[0;32mraise\u001b[0m \u001b[0mException\u001b[0m\u001b[0;34m(\u001b[0m\u001b[0;34m'x and y input (key='\u001b[0m\u001b[0;34m+\u001b[0m \u001b[0mkey\u001b[0m \u001b[0;34m+\u001b[0m \u001b[0;34m') do not have the same length'\u001b[0m\u001b[0;34m)\u001b[0m\u001b[0;34m\u001b[0m\u001b[0;34m\u001b[0m\u001b[0m\n\u001b[0m\u001b[1;32m     76\u001b[0m         \u001b[0;32mfor\u001b[0m \u001b[0mi\u001b[0m \u001b[0;32min\u001b[0m \u001b[0mrange\u001b[0m\u001b[0;34m(\u001b[0m\u001b[0;36m42\u001b[0m\u001b[0;34m)\u001b[0m\u001b[0;34m:\u001b[0m\u001b[0;34m\u001b[0m\u001b[0;34m\u001b[0m\u001b[0m\n\u001b[1;32m     77\u001b[0m             \u001b[0;32mtry\u001b[0m\u001b[0;34m:\u001b[0m\u001b[0;34m\u001b[0m\u001b[0;34m\u001b[0m\u001b[0m\n",
      "\u001b[0;31mException\u001b[0m: x and y input (key=c) do not have the same length"
     ]
    }
   ],
   "source": [
    "pe.combined_fits.combined_fit(x_const_wrong,y_const,funcs_const,method='migrad')"
   ]
  }
 ],
 "metadata": {
  "kernelspec": {
   "display_name": "Python 3 (ipykernel)",
   "language": "python",
   "name": "python3"
  },
  "language_info": {
   "codemirror_mode": {
    "name": "ipython",
    "version": 3
   },
   "file_extension": ".py",
   "mimetype": "text/x-python",
   "name": "python",
   "nbconvert_exporter": "python",
   "pygments_lexer": "ipython3",
   "version": "3.7.3"
  }
 },
 "nbformat": 4,
 "nbformat_minor": 5
}
